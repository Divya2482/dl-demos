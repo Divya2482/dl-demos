{
  "cells": [
    {
      "cell_type": "markdown",
      "metadata": {
        "id": "YpYIBU4rQG4t"
      },
      "source": [
        "# Harry Potter and Word2Vec\n",
        "\n",
        "Word2vec is a method for embedding words into a small latent space which captures semantic meaning. The idea is to use a two layer (one hidden layer) fully connected neural network. The first layer of nodes (representing a one hot encoding of the index of some word $w$) connects to a small hidden layer which then connects to an output layer (representing a one hot encoding of the index of a word that appears near word $w$). Through training, we get the small hidden layer to hold the connection between words and their frequent neighbors.\n",
        "\n",
        "\n",
        "In this demo, we'll implement word2vec using all seven Harry Potter books as our corpus.\n",
        "\n"
      ]
    },
    {
      "cell_type": "markdown",
      "metadata": {
        "id": "HYiA684zOt4F"
      },
      "source": [
        "## Libraries\n",
        "\n",
        "As always, we rely on a lot of libraries."
      ]
    },
    {
      "cell_type": "code",
      "execution_count": 1,
      "metadata": {
        "id": "fq8pZAK27DDz"
      },
      "outputs": [],
      "source": [
        "import pandas as pd\n",
        "import re\n",
        "import torch\n",
        "import torch.nn as nn\n",
        "import numpy as np\n",
        "import matplotlib\n",
        "from matplotlib.patches import Rectangle\n",
        "import matplotlib.pyplot as plt\n",
        "import urllib.request\n",
        "import numpy\n",
        "from torch.utils.data import DataLoader\n",
        "from torch.utils.data import Dataset\n",
        "import torch.nn.functional as F"
      ]
    },
    {
      "cell_type": "markdown",
      "metadata": {
        "id": "nLHxU1tqOyvA"
      },
      "source": [
        "## Loading Text\n",
        "\n",
        "We load the text of Harry Potter from a website and preprocess it. In particular, we only want the chapters of the book and we make all words lowercase. Finally, we remove annoying characters like new lines."
      ]
    },
    {
      "cell_type": "code",
      "execution_count": 2,
      "metadata": {
        "id": "wz2yu_chQG2z"
      },
      "outputs": [],
      "source": [
        "url1 = \"https://raw.githubusercontent.com/formcept/whiteboard/master/nbviewer/notebooks/data/harrypotter/Book%201%20-%20The%20Philosopher's%20Stone.txt\"\n",
        "url2 = \"https://raw.githubusercontent.com/formcept/whiteboard/master/nbviewer/notebooks/data/harrypotter/Book%202%20-%20The%20Chamber%20of%20Secrets.txt\"\n",
        "url3 = \"https://raw.githubusercontent.com/formcept/whiteboard/master/nbviewer/notebooks/data/harrypotter/Book%203%20-%20The%20Prisoner%20of%20Azkaban.txt\"\n",
        "url4 = \"https://raw.githubusercontent.com/formcept/whiteboard/master/nbviewer/notebooks/data/harrypotter/Book%204%20-%20The%20Goblet%20of%20Fire.txt\"\n",
        "url5 = \"https://raw.githubusercontent.com/formcept/whiteboard/master/nbviewer/notebooks/data/harrypotter/Book%205%20-%20The%20Order%20of%20the%20Phoenix.txt\"\n",
        "url6 = \"https://raw.githubusercontent.com/formcept/whiteboard/master/nbviewer/notebooks/data/harrypotter/Book%206%20-%20The%20Half%20Blood%20Prince.txt\"\n",
        "url7 = \"https://raw.githubusercontent.com/formcept/whiteboard/master/nbviewer/notebooks/data/harrypotter/Book%207%20-%20The%20Deathly%20Hallows.txt\"\n",
        "\n",
        "def read_file(url, start_phrase, end_phrase, remove):\n",
        "  with urllib.request.urlopen(url) as webpage:\n",
        "    text = webpage.read().decode(\"utf8\")\n",
        "    start = text.index(start_phrase)\n",
        "    text = text[start:]\n",
        "    end = text.index(end_phrase)\n",
        "    text = text[:end]\n",
        "  return text.lower().replace('\\n', '').replace('¬','').replace(',','').replace('.','').replace(remove, '')\n",
        "\n",
        "text1 = read_file(url1, 'THE BOY WHO LIVED', 'Page | 348', 'Harry Potter and the Philosophers Stone - J.K. Rowling')\n",
        "text2 = read_file(url2, 'THE WORST BIRTHDAY', 'Page | 380', 'Harry Potter and the Chamber of Secrets - J.K. Rowling')\n",
        "text3 = read_file(url3, 'OWL POST', 'Page | 487', 'Harry Potter and the Prisoner of Azkaban - J.K. Rowling')\n",
        "text4 = read_file(url4, 'THE RIDDLE HOUSE', 'Page | 811', 'Harry Potter and the Goblet of Fire - J.K. Rowling')\n",
        "text5 = read_file(url5, 'DUDLEY DEMENTED', 'Page | 1108', 'Harry Potter and the Order of the Phoenix - J.K. Rowling')\n",
        "text6 = read_file(url6, 'THE OTHER MINISTER', 'Page | 730', 'Harry Potter and the Half Blood Prince - J.K. Rowling')\n",
        "text7 = read_file(url7, 'THE DARK LORD ASCENDING', 'Page | 856', 'Harry Potter and the Deathly Hallows - J.K. Rowling')\n",
        "\n",
        "text = text1 + text2 + text3 + text4 + text5 + text6 + text7"
      ]
    },
    {
      "cell_type": "markdown",
      "metadata": {
        "id": "nTehzSQtPGaZ"
      },
      "source": [
        "## Tokenizing\n",
        "\n",
        "Now we tokenize the text. That is, we turn the string into a list of words."
      ]
    },
    {
      "cell_type": "code",
      "execution_count": 3,
      "metadata": {
        "id": "ITb7-sfhahjs"
      },
      "outputs": [],
      "source": [
        "def get_frequent(tokens, threshold=50):\n",
        "  frequency = {token : 0 for token in set(tokens)}\n",
        "  for token in tokens:\n",
        "    frequency[token] += 1\n",
        "  \n",
        "  frequent_tokens = []\n",
        "  for token in tokens:\n",
        "    if frequency[token] >= threshold:\n",
        "      frequent_tokens += [token]\n",
        "  \n",
        "  return frequent_tokens, len(set(tokens))"
      ]
    },
    {
      "cell_type": "code",
      "execution_count": 4,
      "metadata": {
        "colab": {
          "base_uri": "https://localhost:8080/"
        },
        "id": "eJEVyoWf8J73",
        "outputId": "0dad917f-c324-4835-f346-bfe26ae0771e"
      },
      "outputs": [
        {
          "name": "stdout",
          "output_type": "stream",
          "text": [
            "['the', 'boy', 'who', 'lived', 'mr', 'and', 'mrs', 'dursley', 'of', 'number', 'four', 'privet', 'drive', 'were', 'proud', 'to', 'say', 'that', 'they', 'were', 'perfectly', 'normal', 'thank', 'you', 'very', 'much', 'they', 'were', 'the', 'last', 'people', 'youd', 'expect', 'to', 'be', 'in', 'anything', 'strange', 'or', 'because', 'they', 'just', 'didnt', 'hold', 'with', 'such', 'mr', 'dursley', 'was', 'the', 'of', 'a', 'called', 'which', 'made', 'he', 'was', 'a', 'big', 'man', 'with', 'hardly', 'any', 'neck', 'although', 'he', 'did', 'have', 'a', 'very', 'large', 'mrs', 'dursley', 'was', 'thin', 'and', 'and', 'had', 'nearly', 'twice', 'the', 'usual', 'amount', 'of', 'neck', 'which', 'came', 'in', 'very', 'useful', 'as', 'she', 'spent', 'so', 'much', 'of', 'her', 'time', 'over', 'garden']\n"
          ]
        }
      ],
      "source": [
        "letters = 'abcdefghijklmnopqrstuvwxyz'\n",
        "def process_word(word):\n",
        "  return ''.join([letter for letter in word if letter in letters])\n",
        "tokens = [process_word(word) for word in text.split(' ')]\n",
        "\n",
        "tokens, num_tokens = get_frequent(tokens)\n",
        "print(tokens[:100])"
      ]
    },
    {
      "cell_type": "code",
      "execution_count": 5,
      "metadata": {
        "colab": {
          "base_uri": "https://localhost:8080/"
        },
        "id": "HaRAaxLtNlk9",
        "outputId": "901530c6-f17a-446d-f6a5-2a1b1e67ba75"
      },
      "outputs": [
        {
          "name": "stdout",
          "output_type": "stream",
          "text": [
            "There are 1036183 total tokens and 23182 unique tokens.\n"
          ]
        }
      ],
      "source": [
        "print(f'There are {len(tokens)} total tokens and {num_tokens} unique tokens.')"
      ]
    },
    {
      "cell_type": "markdown",
      "metadata": {
        "id": "wY_eeC-gPcK8"
      },
      "source": [
        "Now we map from each word (token) to a unique index and back. We will use this for the one hot encoding of the word."
      ]
    },
    {
      "cell_type": "code",
      "execution_count": 6,
      "metadata": {
        "id": "eyw7PkfQ-iAb"
      },
      "outputs": [],
      "source": [
        "def mapping(tokens):\n",
        "  word_to_id = {}\n",
        "  id_to_word = {}\n",
        "\n",
        "  for i, token in enumerate(set(tokens)):\n",
        "    word_to_id[token] = i\n",
        "    id_to_word[i] = token\n",
        "  \n",
        "  return word_to_id, id_to_word\n",
        "\n",
        "WORD_TO_ID, ID_TO_WORD = mapping(tokens)\n",
        "num_tokens = len(set(tokens))"
      ]
    },
    {
      "cell_type": "markdown",
      "metadata": {
        "id": "SNu4q1OsPkG6"
      },
      "source": [
        "The next step is to get the dataset we will use. We do this by iterating through the tokens with a sliding window. For each word $w$, we look at its neighbors $u$ and add a data point $(w,u)$ where we need to predict $u$ on input $w$. For now, we store the data as indices to avoid carrying around a bunch of zeros in the one hot encoding."
      ]
    },
    {
      "cell_type": "code",
      "execution_count": 41,
      "metadata": {
        "id": "g0jJf78x_bRh"
      },
      "outputs": [],
      "source": [
        "def convert(x):\n",
        "  return torch.tensor(np.asarray(x)).long()\n",
        "  \n",
        "def process(tokens, window=2, threshold=100):\n",
        "  frequency = {WORD_TO_ID[token]: 0 for token in set(tokens)}\n",
        "  X, y = [], []\n",
        "  for i in range(len(tokens)-1):\n",
        "    index_i = WORD_TO_ID[tokens[i]]\n",
        "    if frequency[index_i] < threshold:\n",
        "      for j in list(range(max(0,i-window), min(len(tokens), i+window+1))):\n",
        "        index_j = WORD_TO_ID[tokens[j]]\n",
        "        #if frequency[index_j] < threshold:\n",
        "        X += [index_i]\n",
        "        y += [index_j]\n",
        "        frequency[index_i] += 1\n",
        "        frequency[index_j] += 1\n",
        "  return X, y"
      ]
    },
    {
      "cell_type": "markdown",
      "metadata": {
        "id": "S8s2bBqjXMO3"
      },
      "source": [
        "# Initialization\n",
        "\n",
        "Now we define the custom class we need so we can wrap the nice DataLoader function around our dataset."
      ]
    },
    {
      "cell_type": "code",
      "execution_count": 42,
      "metadata": {
        "id": "tTdzbQ9nWck0"
      },
      "outputs": [],
      "source": [
        "class DataSet(Dataset):\n",
        "  def __init__(self, tokens):\n",
        "    X,y = process(tokens)\n",
        "    self.X = X\n",
        "    self.y = y\n",
        "  \n",
        "  def __len__(self):\n",
        "    return len(self.X)\n",
        "  \n",
        "  def __getitem__(self, idx):\n",
        "    return self.X[idx], self.y[idx] \n",
        "\n",
        "dataloader = DataLoader(DataSet(tokens), batch_size = 128, shuffle=True)"
      ]
    },
    {
      "cell_type": "code",
      "execution_count": 43,
      "metadata": {
        "id": "fI-iOCP0UivK"
      },
      "outputs": [],
      "source": [
        "class Word2Vec(nn.Module):\n",
        "  def __init__(self, num_tokens, embed_dim):\n",
        "    super(Word2Vec, self).__init__()\n",
        "    self.embedding = nn.Embedding(num_tokens, embed_dim)\n",
        "  \n",
        "  def forward(self, x):\n",
        "    return self.embedding(x)\n"
      ]
    },
    {
      "cell_type": "code",
      "execution_count": 44,
      "metadata": {
        "id": "4g_v-qYm88dT"
      },
      "outputs": [],
      "source": [
        "def contrastive_loss(X_embedded, y_embedded):\n",
        "  batch_size = len(X_embedded)\n",
        "  gram = X_embedded @ y_embedded.T\n",
        "  difference = gram - torch.eye(batch_size).to(DEVICE)\n",
        "  return torch.sqrt(torch.square(difference).sum()/batch_size**2)"
      ]
    },
    {
      "cell_type": "markdown",
      "metadata": {
        "id": "_W0DM6ZXQuXR"
      },
      "source": [
        "Finally, we're ready to initialize the architecture, loss, and optimizer. Notice the simplicity of the model!"
      ]
    },
    {
      "cell_type": "code",
      "execution_count": 45,
      "metadata": {
        "id": "E5bwwa809pd5"
      },
      "outputs": [],
      "source": [
        "DEVICE = torch.device('cuda' if torch.cuda.is_available() else 'cpu')\n",
        "embed_dim = 64\n",
        "\n",
        "model = Word2Vec(num_tokens, embed_dim).to(DEVICE)\n",
        "\n",
        "losses = []\n",
        "\n",
        "optimizer = torch.optim.Adam(model.parameters(), lr=0.001)"
      ]
    },
    {
      "cell_type": "markdown",
      "metadata": {
        "id": "6-kIbSDIXGqF"
      },
      "source": [
        "## Training\n",
        "\n",
        "Now let's train."
      ]
    },
    {
      "cell_type": "code",
      "execution_count": 46,
      "metadata": {
        "colab": {
          "base_uri": "https://localhost:8080/"
        },
        "id": "Zlic9nmfD2tC",
        "outputId": "123a1f0e-9261-4829-c5c9-5168e3443588"
      },
      "outputs": [
        {
          "name": "stdout",
          "output_type": "stream",
          "text": [
            "Epoch: 1 \t Loss: 5.720444679260254\n",
            "Epoch: 2 \t Loss: 4.175797462463379\n",
            "Epoch: 3 \t Loss: 2.2377748489379883\n",
            "Epoch: 4 \t Loss: 1.725404143333435\n",
            "Epoch: 5 \t Loss: 0.7257508039474487\n",
            "Epoch: 6 \t Loss: 0.7060225009918213\n",
            "Epoch: 7 \t Loss: 0.3669140040874481\n",
            "Epoch: 8 \t Loss: 0.2837032377719879\n",
            "Epoch: 9 \t Loss: 0.20808711647987366\n",
            "Epoch: 10 \t Loss: 0.19845540821552277\n",
            "Epoch: 11 \t Loss: 0.2003568857908249\n",
            "Epoch: 12 \t Loss: 0.20517590641975403\n",
            "Epoch: 13 \t Loss: 0.20199234783649445\n",
            "Epoch: 14 \t Loss: 0.19729004800319672\n",
            "Epoch: 15 \t Loss: 0.19830188155174255\n",
            "Epoch: 16 \t Loss: 0.1898644119501114\n",
            "Epoch: 17 \t Loss: 0.19841112196445465\n",
            "Epoch: 18 \t Loss: 0.20193296670913696\n",
            "Epoch: 19 \t Loss: 0.1928645223379135\n",
            "Epoch: 20 \t Loss: 0.191421240568161\n"
          ]
        }
      ],
      "source": [
        "num_epochs = 20\n",
        "\n",
        "for epoch in range(1, num_epochs+1):\n",
        "  total_loss = 0\n",
        "  for (X,y) in dataloader:\n",
        "    X = X.to(DEVICE)\n",
        "    y = y.to(DEVICE)\n",
        "    optimizer.zero_grad()\n",
        "    X_embedded = model(X)    \n",
        "    y_embedded = model(y)    \n",
        "    loss = contrastive_loss(X_embedded, y_embedded)\n",
        "    loss.backward()\n",
        "    optimizer.step()\n",
        "    total_loss += loss.item()\n",
        "  losses += [total_loss/len(dataloader)]\n",
        "  print(f'Epoch: {epoch} \\t Loss: {loss}')\n"
      ]
    },
    {
      "cell_type": "markdown",
      "metadata": {
        "id": "8x_ziNQHRAVt"
      },
      "source": [
        "## Exploring the Embeddings"
      ]
    },
    {
      "cell_type": "markdown",
      "metadata": {
        "id": "70TH9Lcej1SF"
      },
      "source": [
        "What is the next word predicted?"
      ]
    },
    {
      "cell_type": "code",
      "execution_count": 62,
      "metadata": {
        "colab": {
          "base_uri": "https://localhost:8080/"
        },
        "id": "zB3kOnsbkJHA",
        "outputId": "5b7f5458-333e-40ab-cf52-c15cf10d367f"
      },
      "outputs": [
        {
          "name": "stdout",
          "output_type": "stream",
          "text": [
            "pitch\n",
            "quidditch\n",
            "practice\n",
            "game\n",
            "final\n",
            "cup\n",
            "playing\n",
            "play\n",
            "ended\n",
            "match\n"
          ]
        }
      ],
      "source": [
        "target = torch.tensor([WORD_TO_ID['quidditch']]).to(DEVICE)\n",
        "candidates = torch.tensor(list(ID_TO_WORD.keys())).to(DEVICE)\n",
        "candidates_embedded = model(candidates)\n",
        "target_embedded = model(target)\n",
        "\n",
        "similarities = candidates_embedded @ target_embedded.T\n",
        "_, indices = torch.topk(similarities.squeeze(), 10)\n",
        "\n",
        "for index in indices:\n",
        "  print(ID_TO_WORD[index.item()])"
      ]
    },
    {
      "cell_type": "markdown",
      "metadata": {
        "id": "Oogwe4ErUFNd"
      },
      "source": [
        "To investigate the model, let's visualize the embeddings of the words."
      ]
    },
    {
      "cell_type": "code",
      "execution_count": 64,
      "metadata": {
        "colab": {
          "base_uri": "https://localhost:8080/",
          "height": 248
        },
        "id": "eT_s4422gMUw",
        "outputId": "2f8f01bf-85f4-4c59-fbc7-e8598bf91e12"
      },
      "outputs": [
        {
          "data": {
            "image/png": "[encoded data removed]",
            "text/plain": [
              "<Figure size 432x288 with 7 Axes>"
            ]
          },
          "metadata": {
            "needs_background": "light"
          },
          "output_type": "display_data"
        }
      ],
      "source": [
        "def embed(word):\n",
        "  return model(torch.tensor(WORD_TO_ID[word]).to(DEVICE)).detach().cpu().numpy()\n",
        "\n",
        "words = ['slytherin', 'gryffindor', 'hufflepuff', 'ravenclaw',\n",
        "         'voldemort', 'snape', 'dumbledore']\n",
        "embeddings = [embed(word) for word in words] \n",
        "num_embed = len(embeddings)\n",
        "cmap = matplotlib.cm.coolwarm\n",
        "fig, axes = plt.subplots(num_embed, 1)\n",
        "norm = matplotlib.colors.Normalize(vmin=embeddings[0].min(), vmax=embeddings[0].max())\n",
        "for idx in range(num_embed):\n",
        "  ax = axes[idx]\n",
        "  embedding = embeddings[idx]\n",
        "  for i in range(embed_dim):\n",
        "    ax.add_patch(Rectangle((i/embed_dim, 0),.05,1, color=cmap(norm(embedding[i]))))\n",
        "  ax.text(1.02, .5, words[idx], fontsize=12)\n",
        "  ax.axis('off')\n",
        "plt.show()"
      ]
    }
  ],
  "metadata": {
    "accelerator": "GPU",
    "colab": {
      "provenance": []
    },
    "gpuClass": "standard",
    "kernelspec": {
      "display_name": "Python 3.10.0 64-bit ('3.10.0')",
      "language": "python",
      "name": "python3"
    },
    "language_info": {
      "name": "python",
      "version": "3.10.0"
    },
    "vscode": {
      "interpreter": {
        "hash": "6aea8d84a86a1280a34780710c5e478b9c6b3c016841b907182e7484363820b1"
      }
    }
  },
  "nbformat": 4,
  "nbformat_minor": 0
}
