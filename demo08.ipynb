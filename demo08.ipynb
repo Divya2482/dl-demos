{
  "cells": [
    {
      "cell_type": "markdown",
      "metadata": {
        "id": "YpYIBU4rQG4t"
      },
      "source": [
        "# Harry Potter and Word2Vec\n",
        "\n",
        "Word2vec is a method for embedding words into a small latent space which captures semantic meaning. The idea is to use a two layer (one hidden layer) fully connected neural network. The first layer of nodes (representing a one hot encoding of the index of some word $w$) connects to a small hidden layer which then connects to an output layer (representing a one hot encoding of the index of a word that appears near word $w$). Through training, we get the small hidden layer to hold the connection between words and their frequent neighbors.\n",
        "\n",
        "\n",
        "In this demo, we'll implement word2vec using *Harry Potter and the Sorcerer's Stone* as our text corpus.\n",
        "\n"
      ]
    },
    {
      "cell_type": "markdown",
      "metadata": {
        "id": "HYiA684zOt4F"
      },
      "source": [
        "## Libraries\n",
        "\n",
        "As always, we rely on a lot of libraries."
      ]
    },
    {
      "cell_type": "code",
      "execution_count": null,
      "metadata": {
        "id": "fq8pZAK27DDz"
      },
      "outputs": [],
      "source": [
        "import pandas as pd\n",
        "import re\n",
        "import torch\n",
        "import torch.nn as nn\n",
        "import numpy as np\n",
        "import matplotlib\n",
        "from matplotlib.patches import Rectangle\n",
        "import matplotlib.pyplot as plt\n",
        "import urllib.request\n",
        "import numpy\n",
        "from torch.utils.data import DataLoader\n",
        "from torch.utils.data import Dataset\n",
        "import torch.nn.functional as F\n",
        "from google.colab import drive"
      ]
    },
    {
      "cell_type": "markdown",
      "metadata": {
        "id": "nLHxU1tqOyvA"
      },
      "source": [
        "## Loading Text\n",
        "\n",
        "We load the text of Harry Potter from a website and preprocess it. In particular, we only want the chapters of the book and we make all words lowercase. Finally, we remove annoying characters like new lines."
      ]
    },
    {
      "cell_type": "code",
      "execution_count": null,
      "metadata": {
        "id": "wz2yu_chQG2z"
      },
      "outputs": [],
      "source": [
        "url1 = \"https://raw.githubusercontent.com/formcept/whiteboard/master/nbviewer/notebooks/data/harrypotter/Book%201%20-%20The%20Philosopher's%20Stone.txt\"\n",
        "url2 = \"https://raw.githubusercontent.com/formcept/whiteboard/master/nbviewer/notebooks/data/harrypotter/Book%202%20-%20The%20Chamber%20of%20Secrets.txt\"\n",
        "url3 = \"https://raw.githubusercontent.com/formcept/whiteboard/master/nbviewer/notebooks/data/harrypotter/Book%203%20-%20The%20Prisoner%20of%20Azkaban.txt\"\n",
        "url4 = \"https://raw.githubusercontent.com/formcept/whiteboard/master/nbviewer/notebooks/data/harrypotter/Book%204%20-%20The%20Goblet%20of%20Fire.txt\"\n",
        "url5 = \"https://raw.githubusercontent.com/formcept/whiteboard/master/nbviewer/notebooks/data/harrypotter/Book%205%20-%20The%20Order%20of%20the%20Phoenix.txt\"\n",
        "url6 = \"https://raw.githubusercontent.com/formcept/whiteboard/master/nbviewer/notebooks/data/harrypotter/Book%206%20-%20The%20Half%20Blood%20Prince.txt\"\n",
        "url7 = \"https://raw.githubusercontent.com/formcept/whiteboard/master/nbviewer/notebooks/data/harrypotter/Book%207%20-%20The%20Deathly%20Hallows.txt\"\n",
        "\n",
        "def read_file(url, start_phrase, end_phrase, remove):\n",
        "  with urllib.request.urlopen(url) as webpage:\n",
        "    text = webpage.read().decode(\"utf8\")\n",
        "    start = text.index(start_phrase)\n",
        "    text = text[start:]\n",
        "    end = text.index(end_phrase)\n",
        "    text = text[:end]\n",
        "  return text.lower().replace('\\n', '').replace('¬','').replace(',','').replace('.','').replace(remove, '')\n",
        "\n",
        "text1 = read_file(url1, 'THE BOY WHO LIVED', 'Page | 348', 'Harry Potter and the Philosophers Stone - J.K. Rowling')\n",
        "text2 = read_file(url2, 'THE WORST BIRTHDAY', 'Page | 380', 'Harry Potter and the Chamber of Secrets - J.K. Rowling')\n",
        "text3 = read_file(url3, 'OWL POST', 'Page | 487', 'Harry Potter and the Prisoner of Azkaban - J.K. Rowling')\n",
        "text4 = read_file(url4, 'THE RIDDLE HOUSE', 'Page | 811', 'Harry Potter and the Goblet of Fire - J.K. Rowling')\n",
        "text5 = read_file(url5, 'DUDLEY DEMENTED', 'Page | 1108', 'Harry Potter and the Order of the Phoenix - J.K. Rowling')\n",
        "text6 = read_file(url6, 'THE OTHER MINISTER', 'Page | 730', 'Harry Potter and the Half Blood Prince - J.K. Rowling')\n",
        "text7 = read_file(url7, 'THE DARK LORD ASCENDING', 'Page | 856', 'Harry Potter and the Deathly Hallows - J.K. Rowling')\n",
        "\n",
        "text = text1 + text2 + text3 + text4 + text5 + text6 + text7"
      ]
    },
    {
      "cell_type": "markdown",
      "metadata": {
        "id": "nTehzSQtPGaZ"
      },
      "source": [
        "## Tokenizing\n",
        "\n",
        "Now we tokenize the text. That is, we turn the string into a list of words."
      ]
    },
    {
      "cell_type": "code",
      "execution_count": null,
      "metadata": {
        "colab": {
          "base_uri": "https://localhost:8080/"
        },
        "id": "eJEVyoWf8J73",
        "outputId": "aa8ccd14-163d-4ef0-bcb4-72d7ffc33d0c"
      },
      "outputs": [
        {
          "output_type": "stream",
          "name": "stdout",
          "text": [
            "['the', 'boy', 'who', 'lived', 'mr', 'and', 'mrs', 'dursley', 'of', 'number', 'four', 'privet', 'drive', 'were', 'proud', 'to', 'say', 'that', 'they', 'were', 'perfectly', 'normal', 'thank', 'you', 'very', 'much', 'they', 'were', 'the', 'last', 'people', 'you', 'd', 'expect', 'to', 'be', 'involved', 'in', 'anything', 'strange', 'or', 'mysterious', 'because', 'they', 'just', 'didn', 't', 'hold', 'with', 'such', 'nonsense', 'mr', 'dursley', 'was', 'the', 'director', 'of', 'a', 'firm', 'called', 'grunnings', 'which', 'made', 'drills', 'he', 'was', 'a', 'big', 'beefy', 'man', 'with', 'hardly', 'any', 'neck', 'although', 'he', 'did', 'have', 'a', 'very', 'large', 'mustache', 'mrs', 'dursley', 'was', 'thin', 'and', 'blonde', 'and', 'had', 'nearly', 'twice', 'the', 'usual', 'amount', 'of', 'neck', 'which', 'came', 'in']\n"
          ]
        }
      ],
      "source": [
        "def tokenize(text):\n",
        "    pattern = re.compile(r'[A-Za-z]+[\\w^\\']*|[\\w^\\']*[A-Za-z]+[\\w^\\']*')\n",
        "    return pattern.findall(text.lower())\n",
        "  \n",
        "tokens = tokenize(text)\n",
        "num_tokens = len(set(tokens))\n",
        "print(tokens[:100])"
      ]
    },
    {
      "cell_type": "code",
      "execution_count": null,
      "metadata": {
        "colab": {
          "base_uri": "https://localhost:8080/"
        },
        "id": "HaRAaxLtNlk9",
        "outputId": "a2be2aa3-13bb-4585-aee0-cca1f57fe532"
      },
      "outputs": [
        {
          "output_type": "stream",
          "name": "stdout",
          "text": [
            "There are 1169433 total tokens and 21938 unique tokens.\n"
          ]
        }
      ],
      "source": [
        "print(f'There are {len(tokens)} total tokens and {num_tokens} unique tokens.')"
      ]
    },
    {
      "cell_type": "markdown",
      "metadata": {
        "id": "wY_eeC-gPcK8"
      },
      "source": [
        "Now we map from each word (token) to a unique index and back. We will use this for the one hot encoding of the word."
      ]
    },
    {
      "cell_type": "code",
      "execution_count": null,
      "metadata": {
        "id": "eyw7PkfQ-iAb"
      },
      "outputs": [],
      "source": [
        "def mapping(tokens):\n",
        "  word_to_id = {}\n",
        "  id_to_word = {}\n",
        "\n",
        "  for i, token in enumerate(set(tokens)):\n",
        "    word_to_id[token] = i\n",
        "    id_to_word[i] = token\n",
        "  \n",
        "  return word_to_id, id_to_word\n",
        "\n",
        "WORD_TO_ID, ID_TO_WORD = mapping(tokens)\n",
        "num_tokens = len(set(tokens))"
      ]
    },
    {
      "cell_type": "markdown",
      "metadata": {
        "id": "SNu4q1OsPkG6"
      },
      "source": [
        "The next step is to get the dataset we will use. We do this by iterating through the tokens with a sliding window. For each word $w$, we look at its neighbors $u$ and add a data point $(w,u)$ where we need to predict $u$ on input $w$. For now, we store the data as indices to avoid carrying around a bunch of zeros in the one hot encoding."
      ]
    },
    {
      "cell_type": "code",
      "execution_count": null,
      "metadata": {
        "id": "g0jJf78x_bRh"
      },
      "outputs": [],
      "source": [
        "def convert(x):\n",
        "  return torch.tensor(np.asarray(x)).long()\n",
        "  \n",
        "def process(tokens, window=2, threshold=100):\n",
        "  frequency = {WORD_TO_ID[token]: 0 for token in set(tokens)}\n",
        "  X, y = [], []\n",
        "  for i in range(len(tokens)-1):\n",
        "    index_i = WORD_TO_ID[tokens[i]]\n",
        "    if frequency[index_i] < threshold:\n",
        "      for j in list(range(max(0,i-window), min(len(tokens), i+window+1))):\n",
        "        index_j = WORD_TO_ID[tokens[j]]\n",
        "        if frequency[index_j] < threshold:\n",
        "          X += [index_i]\n",
        "          y += [index_j]\n",
        "          frequency[index_i] += 1\n",
        "          frequency[index_j] += 1\n",
        "  return X, y"
      ]
    },
    {
      "cell_type": "markdown",
      "metadata": {
        "id": "S8s2bBqjXMO3"
      },
      "source": [
        "# Initialization\n",
        "\n",
        "Now we define the custom class we need so we can wrap the nice DataLoader function around our dataset."
      ]
    },
    {
      "cell_type": "code",
      "execution_count": null,
      "metadata": {
        "id": "tTdzbQ9nWck0"
      },
      "outputs": [],
      "source": [
        "class DataSet(Dataset):\n",
        "  def __init__(self, tokens):\n",
        "    X,y = process(tokens)\n",
        "    self.X = X\n",
        "    self.y = y\n",
        "  \n",
        "  def __len__(self):\n",
        "    return len(self.X)\n",
        "  \n",
        "  def __getitem__(self, idx):\n",
        "    return self.X[idx], self.y[idx] \n",
        "\n",
        "dataloader = DataLoader(DataSet(tokens), batch_size = 128, shuffle=True)"
      ]
    },
    {
      "cell_type": "code",
      "execution_count": null,
      "metadata": {
        "id": "fI-iOCP0UivK"
      },
      "outputs": [],
      "source": [
        "class Word2Vec(nn.Module):\n",
        "  def __init__(self, num_tokens, embed_dim):\n",
        "    super(Word2Vec, self).__init__()\n",
        "    self.embedding = nn.Embedding(num_tokens, embed_dim)\n",
        "    self.linear = nn.Linear(embed_dim, num_tokens)\n",
        "  \n",
        "  def forward(self, x):\n",
        "    embedded = self.embedding(x)\n",
        "    hidden = self.linear(embedded)\n",
        "    return F.log_softmax(hidden, dim=1)"
      ]
    },
    {
      "cell_type": "markdown",
      "metadata": {
        "id": "_W0DM6ZXQuXR"
      },
      "source": [
        "Finally, we're ready to initialize the architecture, loss, and optimizer. Notice the simplicity of the model!"
      ]
    },
    {
      "cell_type": "code",
      "execution_count": null,
      "metadata": {
        "id": "E5bwwa809pd5"
      },
      "outputs": [],
      "source": [
        "DEVICE = torch.device('cuda' if torch.cuda.is_available() else 'cpu')\n",
        "embed_dim = 64\n",
        "\n",
        "model = Word2Vec(num_tokens, embed_dim).to(DEVICE)\n",
        "\n",
        "losses = []\n",
        "\n",
        "crossentropy = nn.CrossEntropyLoss()\n",
        "\n",
        "optimizer = torch.optim.Adam(model.parameters(), lr=0.001)"
      ]
    },
    {
      "cell_type": "markdown",
      "metadata": {
        "id": "6-kIbSDIXGqF"
      },
      "source": [
        "## Training\n",
        "\n",
        "Code to interface with google drive for saving and loading model."
      ]
    },
    {
      "cell_type": "code",
      "execution_count": null,
      "metadata": {
        "colab": {
          "base_uri": "https://localhost:8080/"
        },
        "id": "1jKHt6A1x4mZ",
        "outputId": "822948d0-66fc-4d4b-ce95-77e8d705354f"
      },
      "outputs": [
        {
          "output_type": "stream",
          "name": "stdout",
          "text": [
            "Drive already mounted at /content/gdrive; to attempt to forcibly remount, call drive.mount(\"/content/gdrive\", force_remount=True).\n"
          ]
        }
      ],
      "source": [
        "drive.mount('/content/gdrive') # run once\n",
        "path = '/content/gdrive/My Drive/embeddings.pth'\n",
        "#model.load_state_dict(torch.load(path, map_location=DEVICE))"
      ]
    },
    {
      "cell_type": "code",
      "execution_count": null,
      "metadata": {
        "colab": {
          "base_uri": "https://localhost:8080/"
        },
        "id": "Zlic9nmfD2tC",
        "outputId": "34c28f39-533b-4c50-f8de-ced4c68c47c6"
      },
      "outputs": [
        {
          "output_type": "stream",
          "name": "stdout",
          "text": [
            "Epoch: 1 \t Loss: 6.246865272521973\n",
            "Epoch: 2 \t Loss: 6.703299522399902\n",
            "Epoch: 3 \t Loss: 4.875844955444336\n",
            "Epoch: 4 \t Loss: 3.78432297706604\n",
            "Epoch: 5 \t Loss: 3.6321003437042236\n",
            "Epoch: 6 \t Loss: 3.599649429321289\n",
            "Epoch: 7 \t Loss: 3.5878701210021973\n",
            "Epoch: 8 \t Loss: 3.2613821029663086\n",
            "Epoch: 9 \t Loss: 2.8468496799468994\n",
            "Epoch: 10 \t Loss: 3.6325862407684326\n"
          ]
        }
      ],
      "source": [
        "num_epochs = 10\n",
        "\n",
        "for epoch in range(1, num_epochs+1):\n",
        "  total_loss = 0\n",
        "  for (X,y) in dataloader:\n",
        "    X = X.to(DEVICE)\n",
        "    y = y.to(DEVICE)\n",
        "    optimizer.zero_grad()\n",
        "    outputs = model(X)\n",
        "    loss = crossentropy(outputs, y) \n",
        "    loss.backward()\n",
        "    optimizer.step()\n",
        "    total_loss += loss.item()\n",
        "  losses += [total_loss/len(dataloader)]\n",
        "  print(f'Epoch: {epoch} \\t Loss: {loss}')\n"
      ]
    },
    {
      "cell_type": "code",
      "source": [
        "torch.save(model.state_dict(), path)"
      ],
      "metadata": {
        "id": "K2t9SoGotBPU"
      },
      "execution_count": null,
      "outputs": []
    },
    {
      "cell_type": "markdown",
      "metadata": {
        "id": "8x_ziNQHRAVt"
      },
      "source": [
        "## Exploring the Embeddings"
      ]
    },
    {
      "cell_type": "markdown",
      "metadata": {
        "id": "70TH9Lcej1SF"
      },
      "source": [
        "What is the next word predicted?"
      ]
    },
    {
      "cell_type": "code",
      "execution_count": null,
      "metadata": {
        "colab": {
          "base_uri": "https://localhost:8080/"
        },
        "id": "zB3kOnsbkJHA",
        "outputId": "e7615274-ad6d-472e-a5ce-8583a3e6f3b7"
      },
      "outputs": [
        {
          "output_type": "stream",
          "name": "stdout",
          "text": [
            "Word: dumbledore\n",
            "Top 10 related words:\n",
            "dumbledore\n",
            "albus\n",
            "said\n",
            "we\n",
            "dead\n",
            "told\n",
            "toad\n",
            "life\n",
            "re\n",
            "gently\n"
          ]
        }
      ],
      "source": [
        "index = 0\n",
        "words = ['dumbledore']\n",
        "X = torch.tensor([WORD_TO_ID[word] for word in words]).to(DEVICE)\n",
        "print('Word:', ID_TO_WORD[X[index].item()])\n",
        "output = model(X).cpu().detach().numpy()\n",
        "sorted_indices = np.argsort(output[index])[::-1]\n",
        "print('Top 10 related words:')\n",
        "for i in range(10):\n",
        "  print(ID_TO_WORD[sorted_indices[i]])"
      ]
    },
    {
      "cell_type": "markdown",
      "metadata": {
        "id": "Oogwe4ErUFNd"
      },
      "source": [
        "To investigate the model, we'll need a measure of similarity and a way of extracting the embedding from the model."
      ]
    },
    {
      "cell_type": "code",
      "execution_count": null,
      "metadata": {
        "id": "eT_s4422gMUw"
      },
      "outputs": [],
      "source": [
        "def cosine_similarity(a, b):\n",
        "  return np.dot(a,b) / (numpy.linalg.norm(a) * numpy.linalg.norm(b))\n",
        "\n",
        "def embed(word):\n",
        "  # Remember the embedding is stored in the weights of the first layer\n",
        "  # We access this by multiplying the input_dim vector by the input_dim x embed_dim matrix\n",
        "  index = WORD_TO_ID[word]\n",
        "  return (model.embedding.weight[index]).detach().cpu().numpy()"
      ]
    },
    {
      "cell_type": "markdown",
      "metadata": {
        "id": "X44bU5vDRcCh"
      },
      "source": [
        "Let's play around with some words, and visualize the embeddings."
      ]
    },
    {
      "cell_type": "code",
      "execution_count": null,
      "metadata": {
        "colab": {
          "base_uri": "https://localhost:8080/",
          "height": 248
        },
        "id": "EaSX3SxnQZov",
        "outputId": "5b4e30ea-65d7-4bcf-c95c-c5b902f45765"
      },
      "outputs": [
        {
          "output_type": "display_data",
          "data": {
            "text/plain": [
              "<Figure size 432x288 with 4 Axes>"
            ],
            "image/png": "[encoded data removed]"
          },
          "metadata": {
            "needs_background": "light"
          }
        }
      ],
      "source": [
        "words = ['broom', 'wizard', 'harry']\n",
        "embeddings = [embed(word) for word in words]\n",
        "embeddings += [embed('witch')-embed('woman')+embed('man')]\n",
        "num_embed = len(embeddings)\n",
        "\n",
        "cmap = matplotlib.cm.coolwarm\n",
        "fig, axes = plt.subplots(1,num_embed)\n",
        "norm = matplotlib.colors.Normalize(vmin=embeddings[1].min(), vmax=embeddings[1].max())\n",
        "for ax, embedding in zip(axes, embeddings):\n",
        "  for i in range(embed_dim):\n",
        "    ax.add_patch(Rectangle((0,i/embed_dim),1,.05, color=cmap(norm(embedding[i]))))\n",
        "  ax.axis('off')\n",
        "plt.show()"
      ]
    },
    {
      "cell_type": "markdown",
      "metadata": {
        "id": "-yeBFGWSjxyk"
      },
      "source": [
        "Let's visualize the similarity between words in a matrix."
      ]
    },
    {
      "cell_type": "code",
      "execution_count": null,
      "metadata": {
        "colab": {
          "base_uri": "https://localhost:8080/"
        },
        "id": "XUHWoNl8eBH8",
        "outputId": "72fa1e17-72f4-4824-85a3-3478eb101e02"
      },
      "outputs": [
        {
          "output_type": "stream",
          "name": "stdout",
          "text": [
            "sim(broom, wizard) = -0.1572546660900116\n",
            "sim(broom, harry) = -0.03790762275457382\n",
            "sim(wizard, harry) = 0.08466929942369461\n"
          ]
        }
      ],
      "source": [
        "for i in range(len(words)):\n",
        "  word1 = words[i]\n",
        "  for j in range(i+1, len(words)):\n",
        "    word2 = words[j]\n",
        "    print(f'sim({word1}, {word2}) = {cosine_similarity(embed(word1), embed(word2))}')\n",
        "#norm = matplotlib.colors.Normalize(vmin=-1, vmax=1) \n",
        "#fig, axes = plt.subplots(num_embed, num_embed)\n",
        "#for i in range(num_embed):\n",
        "#  for j in range(num_embed):\n",
        "#    ax = axes[i,j]\n",
        "#    similarity = cosine_similarity(embeddings[i], embeddings[j])\n",
        "#    ax.add_patch(Rectangle((0, 0), 1, 1, color=cmap(norm(similarity))))\n",
        "#    ax.axis('off')"
      ]
    },
    {
      "cell_type": "markdown",
      "metadata": {
        "id": "Vk1k6ReORjNP"
      },
      "source": [
        "Can we classify characters into Gryffindor and Slytherin using their embeddings?"
      ]
    },
    {
      "cell_type": "code",
      "execution_count": null,
      "metadata": {
        "colab": {
          "base_uri": "https://localhost:8080/"
        },
        "id": "YJ_POfDhgQ-7",
        "outputId": "62e310c4-b80d-4736-a95a-8dd3f5fe1e07"
      },
      "outputs": [
        {
          "output_type": "stream",
          "name": "stdout",
          "text": [
            "person \tgryffindor\tslytherin\n",
            "harry\t0.107601315\t0.073798865\n",
            "ron\t-0.16170725\t-0.13011932\n",
            "ginny\t0.17123602\t-0.06939107\n",
            "draco\t0.09989791\t-0.0040249857\n",
            "severus\t-0.117120065\t0.22967824\n",
            "hagrid\t0.1207563\t0.02847264\n",
            "neville\t0.33364892\t0.066469796\n"
          ]
        }
      ],
      "source": [
        "characters = ['harry', 'ron', 'ginny', 'draco', 'severus', 'hagrid', 'neville']\n",
        "houses = ['gryffindor', 'slytherin']\n",
        "print('person \\t' + '\\t'.join(houses))\n",
        "for character in characters:\n",
        "  print(character + '\\t' + '\\t'.join([str(cosine_similarity(embed(house), embed(character))) for house in houses]))"
      ]
    },
    {
      "cell_type": "markdown",
      "source": [
        "## GloVe\n",
        "\n",
        "Another method for embedding words is GloVe proposed in \"[GloVe: Global Vectors for Word Representation](https://nlp.stanford.edu/pubs/glove.pdf)\". See below for an implementation. Since the method doesn't use a neural network, we manually implement the gradient update."
      ],
      "metadata": {
        "id": "iLil_1ylo_Hg"
      }
    },
    {
      "cell_type": "code",
      "execution_count": null,
      "metadata": {
        "id": "ADX8g8vddUTM"
      },
      "outputs": [],
      "source": [
        "def process_glove(tokens, window=2):\n",
        "  X = np.zeros((num_tokens,num_tokens))\n",
        "  for i in range(len(tokens)):\n",
        "    for j in list(range(max(0,i-window), min(len(tokens), i+window+1))):\n",
        "      index_i = WORD_TO_ID[tokens[i]]\n",
        "      index_j = WORD_TO_ID[tokens[j]]\n",
        "      weight = 2 if (i-j) == 0 else 1/(i-j)**2\n",
        "      X[index_i, index_j] += 1\n",
        "      X[index_j, index_i] += 1\n",
        "  return X\n",
        "\n",
        "class GloVe():\n",
        "  # https://nlp.stanford.edu/pubs/glove.pdf\n",
        "  def __init__(self, tokens, embed_dim):\n",
        "    super(GloVe, self).__init__()\n",
        "    self.X = process_glove(tokens)\n",
        "    self.W = np.random.normal(size=(2*num_tokens, embed_dim))\n",
        "    self.b = np.random.normal(size=2*num_tokens)\n",
        "    # Prevent common pairs from dominating\n",
        "    self.f = lambda x : (x/100)** (3/4) if x < 100 else 1 \n",
        "    self.nonzero_row, self.nonzero_col = np.nonzero(self.X)    \n",
        "  \n",
        "  def train(self, lr):\n",
        "    # Cost function is given by\n",
        "    # Sum_{i,j} f(X[i,j]) * ( w_i^T w_j' + b_i + b_j' - log(X[i,j]) )^2\n",
        "    total_cost = 0\n",
        "    for (i,j) in zip(self.nonzero_row, self.nonzero_col):\n",
        "      main = self.W[i]\n",
        "      context = self.W[j+num_tokens]\n",
        "      fX = self.f(self.X[i,j])\n",
        "      cost = (main @ context + self.b[i+num_tokens] + self.b[j+num_tokens] - np.log(self.X[i,j]))\n",
        "      # f(X[i,j]) * \n",
        "      self.W[i] -= lr * fX * cost * context\n",
        "      self.W[j+num_tokens] -= lr * fX * cost * main\n",
        "      self.b[i] -= lr * fX * cost\n",
        "      self.b[j+num_tokens] -= lr * fX * cost\n",
        "      total_cost += fX * cost **2\n",
        "    return total_cost/len(self.nonzero_row)\n",
        "\n",
        "def train(num_epochs):\n",
        "  costs = []\n",
        "  for epoch in range(num_epochs):\n",
        "    costs += [model.train(lr=.01)]\n",
        "    print(f'Epoch: {epoch} \\t Cost: {costs[-1]}')\n",
        "  return costs\n",
        "\n",
        "def embed_glove(word):\n",
        "  index = WORD_TO_ID[word]\n",
        "  return model.W[index]\n",
        "\n",
        "# Most similar words using GloVe\n",
        "def similar_words_glove(word):\n",
        "  i = WORD_TO_ID[word]\n",
        "  similarities = [cosine_similarity(model.W[i], model.W[j+num_tokens]) for j in range(num_tokens)]\n",
        "  for index in np.argsort(similarities)[:10]:\n",
        "    print(ID_TO_WORD[index])\n",
        "\n",
        "#embed_dim = 100\n",
        "#model = GloVe(tokens, embed_dim=embed_dim)\n",
        "#costs = train(num_epochs=100)\n",
        "#similar_words_glove('harry')"
      ]
    }
  ],
  "metadata": {
    "colab": {
      "collapsed_sections": [],
      "provenance": []
    },
    "gpuClass": "standard",
    "kernelspec": {
      "display_name": "Python 3",
      "name": "python3"
    },
    "language_info": {
      "name": "python"
    },
    "accelerator": "GPU"
  },
  "nbformat": 4,
  "nbformat_minor": 0
}