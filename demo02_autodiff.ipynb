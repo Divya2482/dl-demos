{
  "nbformat": 4,
  "nbformat_minor": 0,
  "metadata": {
    "colab": {
      "provenance": [],
      "authorship_tag": "ABX9TyMEBuT39IoyidztaKE/cWOL"
    },
    "kernelspec": {
      "name": "python3",
      "display_name": "Python 3"
    },
    "language_info": {
      "name": "python"
    }
  },
  "cells": [
    {
      "cell_type": "markdown",
      "source": [
        "# Backpropagation\n",
        "\n",
        "In this demo, we will implement backpropagation from scratch. We will follow the colab notebook that accompanies Boaz Barak's excellent [Yet another backpropagation tutorial](https://windowsontheory.org/2020/11/03/yet-another-backpropagation-tutorial/).\n",
        "\n",
        "I find the following graphic (from Barak) useful in understanding backpropagation. \n",
        "\n",
        "<img src=\"https://windowsontheory.files.wordpress.com/2021/12/backprop.png?w=1024\" width=\"700\">\n",
        "\n",
        "The key idea is that the multivariate chain rule lets us compute $dz/du$ using only information about $u$'s children in the feedforward network."
      ],
      "metadata": {
        "id": "5NnHTCg2D8cI"
      }
    },
    {
      "cell_type": "markdown",
      "source": [
        "### Building the `Value` class for backpropagation\n",
        "\n",
        "We'll start by building a class to easily store gradients and recursively calculate them.\n",
        "\n",
        "Once we've implemented it, our value function should behave as follows.\n",
        "\n",
        "```\n",
        "a = Value(4)\n",
        "print(a.grad) # 0\n",
        "def f(x): return (x+2)**3 + x**2\n",
        "f(a).backward()\n",
        "print(a.grad) # 116 = 3*(x+2)**2 + 2x when x = 4\n",
        "```\n",
        "\n",
        "In particular, we want to create a `Value` instance from a scalar which will initially have a gradient of 0. Then, we want to apply a function (the network and then loss) so that, when we call backward, each `Value` instance will compute its gradient with respect to the final value of the function. \n",
        "\n",
        "Let's start by initializing. We will need to store the data, a gradient, a method for calculating the partial derivative, and the children in the feedforward network."
      ],
      "metadata": {
        "id": "z-wp9vmnHaI4"
      }
    },
    {
      "cell_type": "code",
      "source": [
        "class Value:\n",
        "  def __init__(self, data, _children=()):\n",
        "    self.data = data\n",
        "    self.grad = 0\n",
        "    self._backward = lambda: None\n",
        "    self._prev = set(_children)  "
      ],
      "metadata": {
        "id": "lW9QBYE7EAlb"
      },
      "execution_count": 1,
      "outputs": []
    },
    {
      "cell_type": "markdown",
      "source": [
        "We'll also need a method for backpropagating the gradient recursively. Note that we can keep the process efficient by maintaining a set of neurons which have already been visited."
      ],
      "metadata": {
        "id": "TNT6db0rr02V"
      }
    },
    {
      "cell_type": "code",
      "source": [
        "def backward(self, visited=None):\n",
        "  if visited is None:\n",
        "    visited = set([self])\n",
        "    self.grad = 1\n",
        "  self._backward()\n",
        "  for child in self._prev:\n",
        "    if not child in visited:\n",
        "      visited.add(child)\n",
        "      child.backward(visited)\n",
        "\n",
        "Value.backward = backward"
      ],
      "metadata": {
        "id": "7jC4rID5E4px"
      },
      "execution_count": 2,
      "outputs": []
    },
    {
      "cell_type": "markdown",
      "source": [
        "Now we'll need to implement the backward methods for several common operations."
      ],
      "metadata": {
        "id": "QOVeE9lnsAGc"
      }
    },
    {
      "cell_type": "code",
      "source": [
        "def __add__(self, other):\n",
        "    other = other if isinstance(other, Value) else Value(other)\n",
        "    out = Value(self.data + other.data, (self, other))\n",
        "\n",
        "    def _backward():\n",
        "        # out = other + self\n",
        "        # d out / d self = d self / d self = 1\n",
        "        # d L / d self = d L / d out * d out / d self = d L / d out = out.grad\n",
        "        self.grad += out.grad \n",
        "        other.grad += out.grad\n",
        "    out._backward = _backward\n",
        "\n",
        "    return out\n",
        "\n",
        "Value.__add__ = __add__\n",
        "\n",
        "def __mul__(self, other):\n",
        "    other = other if isinstance(other, Value) else Value(other)\n",
        "    out = Value(self.data * other.data, (self, other))\n",
        "\n",
        "    def _backward():\n",
        "        # out = other * self\n",
        "        # d out / d self = other * d self / delf = other\n",
        "        # d L / d self = d L / d out * d out / d self = out.grad * other\n",
        "        self.grad += other.data * out.grad\n",
        "        other.grad += self.data * out.grad\n",
        "    out._backward = _backward\n",
        "\n",
        "    return out\n",
        "\n",
        "Value.__mul__ = __mul__"
      ],
      "metadata": {
        "id": "Eo2K9fxbFyzG"
      },
      "execution_count": 3,
      "outputs": []
    },
    {
      "cell_type": "markdown",
      "source": [
        "With these methods in hand, we can recreate the desired behavior! Notice that we wrote the cube operation in a funny way. This is because we have only implemented multiplication (rather than raising to a power)."
      ],
      "metadata": {
        "id": "v2hWBJ4msIP9"
      }
    },
    {
      "cell_type": "code",
      "source": [
        "a = Value(4)\n",
        "print(a.grad)\n",
        "def f(x): return (x+2)*(x+2)*(x+2) + x*x\n",
        "f(a).backward()\n",
        "print(a.grad)"
      ],
      "metadata": {
        "colab": {
          "base_uri": "https://localhost:8080/"
        },
        "id": "64_Dn1MPGA8h",
        "outputId": "9b349334-a138-47bb-d6bb-a0a8832af3b1"
      },
      "execution_count": 4,
      "outputs": [
        {
          "output_type": "stream",
          "name": "stdout",
          "text": [
            "0\n",
            "116\n"
          ]
        }
      ]
    },
    {
      "cell_type": "markdown",
      "source": [
        "Because we *will* want to raise things to powers and do a few more fancy operations, we'll use the following code to make a more comprehensive implementation of the `Value` class."
      ],
      "metadata": {
        "id": "oB4Ey4KTsUst"
      }
    },
    {
      "cell_type": "markdown",
      "source": [
        "### More comprehensive implementation of `Value`"
      ],
      "metadata": {
        "id": "ZyPQAlSPGoag"
      }
    },
    {
      "cell_type": "code",
      "source": [
        "import random\n",
        "\n",
        "class Value:\n",
        "    \"\"\" stores a single scalar value and its gradient \"\"\"\n",
        "\n",
        "    def __init__(self, data = None, _children=(), _op=''):\n",
        "        if data is None:\n",
        "          data = random.uniform(-1,1)\n",
        "        self.data = data\n",
        "        self.grad = 0\n",
        "        # internal variables used for autograd graph construction\n",
        "        self._backward = lambda: None\n",
        "        self._prev = set(_children)\n",
        "        self._op = _op # the op that produced this node, for graphviz / debugging / etc\n",
        "    \n",
        "    def backward(self):\n",
        "        # topological order all of the children in the graph\n",
        "        topo = []\n",
        "        visited = set()\n",
        "        def build_topo(v):\n",
        "            if v not in visited:\n",
        "                visited.add(v)\n",
        "                for child in v._prev:\n",
        "                    build_topo(child)\n",
        "                topo.append(v)\n",
        "        build_topo(self)\n",
        "\n",
        "        # go one variable at a time and apply the chain rule to get its gradient\n",
        "        self.grad = 1\n",
        "        for v in reversed(topo):\n",
        "            v._backward()\n",
        "\n",
        "\n",
        "    # Arithmetic operations \n",
        "\n",
        "    def __add__(self, other):\n",
        "        other = other if isinstance(other, Value) else Value(other)\n",
        "        out = Value(self.data + other.data, (self, other), '+')\n",
        "\n",
        "        def _backward():\n",
        "            self.grad += out.grad\n",
        "            other.grad += out.grad\n",
        "        out._backward = _backward\n",
        "\n",
        "        return out\n",
        "\n",
        "    def __mul__(self, other):\n",
        "        other = other if isinstance(other, Value) else Value(other)\n",
        "        out = Value(self.data * other.data, (self, other), '*')\n",
        "\n",
        "        def _backward():\n",
        "            self.grad += other.data * out.grad\n",
        "            other.grad += self.data * out.grad\n",
        "        out._backward = _backward\n",
        "\n",
        "        return out\n",
        "# In first reading you can ignore all code below here - if you understand everything above then you undestand the main concepts        \n",
        "##############################################################################################################################\n",
        "\n",
        "    def __pow__(self, other):\n",
        "        assert isinstance(other, (int, float)), \"only supporting int/float powers for now\"\n",
        "        out = Value(self.data**other, (self,), f'**{other}')\n",
        "\n",
        "        def _backward():\n",
        "            self.grad += (other * self.data**(other-1)) * out.grad\n",
        "        out._backward = _backward\n",
        "\n",
        "        return out\n",
        "\n",
        "    def relu(self):\n",
        "        out = Value(0 if self.data < 0 else self.data, (self,), 'ReLU')\n",
        "\n",
        "        def _backward():\n",
        "            self.grad += (out.data > 0) * out.grad\n",
        "        out._backward = _backward\n",
        "\n",
        "        return out\n",
        "\n",
        "    # Other operations implemented in terms of prior ones \n",
        "    def __float__(self): return float(self.data)\n",
        "    def __neg__(self): return self * -1\n",
        "    def __radd__(self, other): return self + other\n",
        "    def __sub__(self, other):  return self + (-other)\n",
        "    def __rsub__(self, other): return other + (-self)\n",
        "    def __rmul__(self, other): return self * other\n",
        "    def __truediv__(self, other): return self * other**-1\n",
        "    def __rtruediv__(self, other): return other * self**-1\n",
        "    def __repr__(self): return f\"Value(data={self.data}, grad={self.grad})\""
      ],
      "metadata": {
        "id": "ORwgIbh2FLkp"
      },
      "execution_count": 5,
      "outputs": []
    },
    {
      "cell_type": "markdown",
      "source": [
        "### Backpropagation for Linear Regression\n",
        "\n",
        "Let's apply our new machinery to our trusty linear regression model. Remember this isn't necessary because we can *exactly* solve the linear regression problem (assuming X^T X is full rank). However, the exact solution can be rather inefficient.\n",
        "\n",
        "We'll implement linear regression for a single dimensional problem. That is, we have labelled data $(x,y)$ where $x,y \\in \\mathbb{R}$. Then linear regression is equivalent to finding the line of best fit."
      ],
      "metadata": {
        "id": "aDNibzsoHWWd"
      }
    },
    {
      "cell_type": "code",
      "source": [
        "class Linear:\n",
        "  def __init__(self):\n",
        "    self.a,self.b = Value(0),Value(0)\n",
        "  def __call__(self,x):\n",
        "    return self.a*x+self.b\n",
        "  def zero_grad(self):\n",
        "    self.a.grad, self.b.grad = 0,0\n",
        "\n",
        "def loss(y,y_): # We'll use the standard l_2 loss\n",
        "  return (y-y_)**2 # Is it okay that we're not multiplying by 1/2?"
      ],
      "metadata": {
        "id": "N_EDRKDAG7SY"
      },
      "execution_count": 6,
      "outputs": []
    },
    {
      "cell_type": "markdown",
      "source": [
        "Now let's make some data to fit."
      ],
      "metadata": {
        "id": "-rn4Z4lpuh9N"
      }
    },
    {
      "cell_type": "code",
      "source": [
        "import matplotlib.pyplot as plt\n",
        "n = 20\n",
        "X = [random.random() for i in range(20)]\n",
        "Y = [5*x + 2 + 0.5*random.random() for x in X]\n",
        "plt.scatter(X, Y)\n",
        "plt.xlim(0,1)\n",
        "plt.ylim(0,10)\n",
        "plt.show()"
      ],
      "metadata": {
        "colab": {
          "base_uri": "https://localhost:8080/",
          "height": 269
        },
        "id": "D9cWrd1_IPVk",
        "outputId": "bdd2d613-03bd-4799-948f-a60adffa8e82"
      },
      "execution_count": 7,
      "outputs": [
        {
          "output_type": "display_data",
          "data": {
            "text/plain": [
              "<Figure size 432x288 with 1 Axes>"
            ],
            "image/png": "[encoded data removed]"
          },
          "metadata": {
            "needs_background": "light"
          }
        }
      ]
    },
    {
      "cell_type": "markdown",
      "source": [
        "We'll also use the below helper function for visualizing how we're doing."
      ],
      "metadata": {
        "id": "5UZ0Z5GzukXO"
      }
    },
    {
      "cell_type": "code",
      "source": [
        "def plot_line(X, Y, model, pause_time=1):\n",
        "  clear_output()\n",
        "  x_values_plotting = [0,1]\n",
        "  y_values_plotting = [model.a * x + model.b for x in x_values_plotting]\n",
        "  plt.plot(x_values_plotting, y_values_plotting, color='red')\n",
        "  plt.scatter(X, Y)\n",
        "  plt.xlim(0,1)\n",
        "  plt.ylim(0,10)\n",
        "  plt.show()\n",
        "  time.sleep(pause_time)  "
      ],
      "metadata": {
        "id": "Jr14Iz-VLxSB"
      },
      "execution_count": 8,
      "outputs": []
    },
    {
      "cell_type": "markdown",
      "source": [
        "Now, we'll train our linear model using gradient descent and $\\ell_2$ loss."
      ],
      "metadata": {
        "id": "FBGeugVxunpj"
      }
    },
    {
      "cell_type": "code",
      "source": [
        "import time\n",
        "from IPython.display import clear_output\n",
        "\n",
        "model = Linear()\n",
        "learning_rate = 0.03\n",
        "num_epochs = 3\n",
        "for epoch in range(num_epochs): \n",
        "  for (x,y) in zip(X,Y):\n",
        "    model.zero_grad()\n",
        "    loss = (model(x)-y)**2\n",
        "    loss.backward()\n",
        "    model.a -= learning_rate * model.a.grad\n",
        "    model.b -= learning_rate * model.b.grad\n",
        "    plot_line(X, Y, model)\n",
        "  "
      ],
      "metadata": {
        "colab": {
          "base_uri": "https://localhost:8080/",
          "height": 269
        },
        "id": "R95XV98wJXNt",
        "outputId": "0c5167ae-6707-4934-d5f1-6bf6a8be42b6"
      },
      "execution_count": 9,
      "outputs": [
        {
          "output_type": "display_data",
          "data": {
            "text/plain": [
              "<Figure size 432x288 with 1 Axes>"
            ],
            "image/png": "[encoded data removed]"
          },
          "metadata": {
            "needs_background": "light"
          }
        }
      ]
    },
    {
      "cell_type": "markdown",
      "source": [
        "### More general datasets\n",
        "\n",
        "Linear regression works well for data that fits a line. But some data doesn't behave so nicely.\n",
        "\n",
        "Next, we'll load labelled pairs $(x,y)$ where $x \\in \\mathbb{R}^2$ and $y \\in \\{\\pm 1\\}$. Clearly, a line won't work for us any more. Instead, we'll need a more rich model."
      ],
      "metadata": {
        "id": "IMuAseYekWDH"
      }
    },
    {
      "cell_type": "code",
      "source": [
        "from sklearn.datasets import make_moons, make_blobs\n",
        "X, Y = make_moons(n_samples=100, noise=0.1)\n",
        "Y = 2*Y - 1 # go from {0,1} to {-1, 1}\n",
        "\n",
        "plt.scatter(X[:,0],X[:,1], c=Y, cmap='jet')\n",
        "plt.show()"
      ],
      "metadata": {
        "colab": {
          "base_uri": "https://localhost:8080/",
          "height": 269
        },
        "id": "YutZA-VBj34q",
        "outputId": "759a3dbb-0420-47ac-f3a4-99872b0a12ab"
      },
      "execution_count": 10,
      "outputs": [
        {
          "output_type": "display_data",
          "data": {
            "text/plain": [
              "<Figure size 432x288 with 1 Axes>"
            ],
            "image/png": "[encoded data removed]"
          },
          "metadata": {
            "needs_background": "light"
          }
        }
      ]
    },
    {
      "cell_type": "markdown",
      "source": [
        "Luckily, we have neural networks! Let's build a three layer (two hidden layer) network to solve this problem."
      ],
      "metadata": {
        "id": "uAV1u8YbvCRl"
      }
    },
    {
      "cell_type": "code",
      "source": [
        "def neuron(weights, inputs, relu=True):\n",
        "  v = sum(w*x for w,x in zip(weights, inputs))\n",
        "  return v.relu() if relu else v\n",
        "\n",
        "class Net:\n",
        "  # The list comprehension is fancy but this is exactly the architecture\n",
        "  # we've been drawing in class.\n",
        "  def __init__(self, hidden_dim=16):\n",
        "    self.layer_1 = [[Value(), Value()] for i in range(hidden_dim)]\n",
        "    self.layer_2 = [[Value() for j in range(hidden_dim)] for i in range(hidden_dim)]\n",
        "    self.output = [Value() for i in range(hidden_dim)]\n",
        "    self.parameters = [v for L in [self.layer_1,self.layer_2,[self.output]] for w in L for v in w]\n",
        "  \n",
        "  def __call__(self, x):\n",
        "    layer_1_vals = [neuron(w,x) for w in self.layer_1]\n",
        "    layer_2_vals = [neuron(w, layer_1_vals) for w in self.layer_2]\n",
        "    return neuron(self.output, layer_2_vals, relu=False)\n",
        "  \n",
        "  def zero_grad(self):\n",
        "    for p in self.parameters:\n",
        "      p.grad = 0"
      ],
      "metadata": {
        "id": "JFefvQzAkaah"
      },
      "execution_count": 11,
      "outputs": []
    },
    {
      "cell_type": "markdown",
      "source": [
        "We'll use the following helper function to visualize how our model is doing."
      ],
      "metadata": {
        "id": "ptPi1I5fvNPK"
      }
    },
    {
      "cell_type": "code",
      "source": [
        "import numpy as np\n",
        "\n",
        "def plot_prediction(X, Y, model, title=None, h=.5):\n",
        "  x_min, x_max = X[:, 0].min() - 1, X[:, 0].max() + 1\n",
        "  y_min, y_max = X[:, 1].min() - 1, X[:, 1].max() + 1\n",
        "  xx, yy = np.meshgrid(np.arange(x_min, x_max, h),\n",
        "                      np.arange(y_min, y_max, h))\n",
        "  Xmesh = np.c_[xx.ravel(), yy.ravel()]\n",
        "  inputs = [list(map(Value, xrow)) for xrow in Xmesh]\n",
        "  scores = list(map(model, inputs))\n",
        "  Z = np.array([s.data > 0 for s in scores])\n",
        "  Z = Z.reshape(xx.shape)\n",
        "  \n",
        "  fig = plt.figure()\n",
        "  clear_output()\n",
        "  if title != None: plt.title(title)\n",
        "  plt.contourf(xx, yy, Z, cmap=plt.cm.Spectral, alpha=0.8)\n",
        "  plt.scatter(X[:, 0], X[:, 1], c=Y, s=40, cmap=plt.cm.Spectral)\n",
        "  plt.xlim(xx.min(), xx.max())\n",
        "  plt.ylim(yy.min(), yy.max())\n",
        "  plt.show()"
      ],
      "metadata": {
        "id": "cJ3eAVeRn8b7"
      },
      "execution_count": 12,
      "outputs": []
    },
    {
      "cell_type": "markdown",
      "source": [
        "Now let's train our architecture using gradient descent. Notice we're using a slighty non-standard loss. In particular, we want our prediction $y'$ to be close to the true value $y$. In math notation, we want $y y' =1$ so our loss is $1-y y'$. The problem is the model may output really large weights to make this really negative so we need to bound the loss from below at 0."
      ],
      "metadata": {
        "id": "neiB2_RyvSOu"
      }
    },
    {
      "cell_type": "code",
      "source": [
        "model = Net(20)\n",
        "\n",
        "num_epochs = 10\n",
        "learning_rate = 1\n",
        "for epoch in range(num_epochs): \n",
        "  loss = 0\n",
        "  for x,y in zip(X,Y):\n",
        "    output = model(x)\n",
        "    # want y*output = 1\n",
        "    # set lowest loss at 0\n",
        "    loss += (1 + -y*output).relu() \n",
        "  loss = loss/len(X) # normalize\n",
        "  model.zero_grad()\n",
        "  loss.backward()\n",
        "  for p in model.parameters:\n",
        "    p.data -= learning_rate * p.grad   \n",
        "  accuracy = sum(float(model(x))*y > 0 for x,y in zip(X,Y))/len(X)  \n",
        "  message = f'Epoch: {epoch}, Loss: {round(loss.data, 2)},  Accuracy: {accuracy*100}'\n",
        "  print(message)"
      ],
      "metadata": {
        "colab": {
          "base_uri": "https://localhost:8080/"
        },
        "id": "_Tq6_24pmHwy",
        "outputId": "54eefd83-0d2c-4d83-eecc-b9cd564b7da6"
      },
      "execution_count": 13,
      "outputs": [
        {
          "output_type": "stream",
          "name": "stdout",
          "text": [
            "Epoch: 0, Loss: 0.98,  Accuracy: 79.0\n",
            "Epoch: 1, Loss: 0.82,  Accuracy: 84.0\n",
            "Epoch: 2, Loss: 0.37,  Accuracy: 87.0\n",
            "Epoch: 3, Loss: 0.27,  Accuracy: 87.0\n",
            "Epoch: 4, Loss: 0.26,  Accuracy: 87.0\n",
            "Epoch: 5, Loss: 0.26,  Accuracy: 85.0\n",
            "Epoch: 6, Loss: 0.28,  Accuracy: 87.0\n",
            "Epoch: 7, Loss: 0.25,  Accuracy: 87.0\n",
            "Epoch: 8, Loss: 0.25,  Accuracy: 87.0\n",
            "Epoch: 9, Loss: 0.25,  Accuracy: 87.0\n"
          ]
        }
      ]
    },
    {
      "cell_type": "code",
      "source": [
        "plot_prediction(X, Y, model, title=message, h=.5)"
      ],
      "metadata": {
        "colab": {
          "base_uri": "https://localhost:8080/",
          "height": 281
        },
        "id": "pwQDYE7hxM_5",
        "outputId": "518a7e8b-73f5-4927-da31-a6919bd1fb0c"
      },
      "execution_count": 14,
      "outputs": [
        {
          "output_type": "display_data",
          "data": {
            "text/plain": [
              "<Figure size 432x288 with 1 Axes>"
            ],
            "image/png": "[encoded data removed]"
          },
          "metadata": {
            "needs_background": "light"
          }
        }
      ]
    },
    {
      "cell_type": "markdown",
      "source": [
        "Look how pretty! The neural network is able to fit the data in a way that isn't possible for linear models."
      ],
      "metadata": {
        "id": "8pRsJTAyv0Ce"
      }
    }
  ]
}