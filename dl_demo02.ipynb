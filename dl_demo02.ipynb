{
  "cells": [
    {
      "cell_type": "markdown",
      "metadata": {
        "id": "8ajG-5JYQ0o_"
      },
      "source": [
        "## Automatic Differentiation from Scratch\n",
        "\n",
        "This demo is based on Boaz Barak's excellent [Yet another backpropagation tutorial](https://windowsontheory.org/2020/11/03/yet-another-backpropagation-tutorial/). I highly recommend reading through it if you would like more detail or explanation.\n",
        "\n",
        "I find the following image (from Barak's tutorial) a great way of visualizing the high level idea of backpropagation.\n",
        "\n",
        "<img src=\"https://windowsontheory.files.wordpress.com/2021/12/backprop.png\" width=\"500\">\n",
        "\n",
        "An accessible proof of the multivariate chain rule appears [here](https://math.libretexts.org/Bookshelves/Calculus/Book%3A_Calculus_(OpenStax)/14%3A_Differentiation_of_Functions_of_Several_Variables/14.05%3A_The_Chain_Rule_for_Multivariable_Functions).\n",
        "\n",
        "We'll start by implementing automatic differentiation from scratch. We build a class `Value` which holds a single scalar and encodes the relationship between the scalar and the scalars which created the scalar (\"children\"). Assuming we know how to find the gradient of each scalar (which will implement soon), the `backward` method is used to compute the gradient of the scalar and then all its children."
      ]
    },
    {
      "cell_type": "code",
      "execution_count": 1,
      "metadata": {
        "id": "Cu6xzDFs9CQg"
      },
      "outputs": [],
      "source": [
        "class Value:\n",
        "  ''' stores a single scalar and its gradient '''\n",
        "  def __init__(self, data, _children=()):\n",
        "    self.data = data\n",
        "    self.grad = 0\n",
        "    self._backward = lambda : None\n",
        "    self._prev = set(_children)\n",
        "    \n",
        "  def backward(self, visited=None):\n",
        "    if visited is None:\n",
        "      visited = set([self])\n",
        "      self.grad = 1\n",
        "    self._backward()\n",
        "    for child in self._prev:\n",
        "      if not child in visited:\n",
        "        visited.add(child)\n",
        "        child.backward(visited)\n"
      ]
    },
    {
      "cell_type": "markdown",
      "metadata": {
        "id": "fmneFzg6acXu"
      },
      "source": [
        "Next, we'll add methods to `Value` which describe how to calculate operations and, crucially, the gradient when `backward` is called.\n",
        "\n",
        "Can you see why the output `out` from the addition method has the value and children it does? And why the gradients in the `_backward` method are what they are? Using the addition method as a template, we will fill in the methods for the multiplication, power, and ReLU operations."
      ]
    },
    {
      "cell_type": "code",
      "execution_count": 2,
      "metadata": {
        "id": "ODDKCehWQwce"
      },
      "outputs": [],
      "source": [
        "def __add__(self, other):\n",
        "  other = other if isinstance(other, Value) else Value(other)\n",
        "  out = Value(self.data + other.data, [self, other])\n",
        "\n",
        "  def _backward():\n",
        "    self.grad += out.grad\n",
        "    other.grad += out.grad    \n",
        "  out._backward = _backward\n",
        "\n",
        "  return out\n",
        "\n",
        "setattr(Value, '__add__', __add__)\n",
        "\n",
        "def __mul__(self, other):\n",
        "  \n",
        "  other = other if isinstance(other, Value) else Value(other)\n",
        "  out = Value(self.data * other.data, [self, other])\n",
        "\n",
        "  def _backward():\n",
        "    self.grad += out.grad * other.data\n",
        "    other.grad += out.grad * self.data    \n",
        "  out._backward = _backward\n",
        "\n",
        "  return out\n",
        "\n",
        "setattr(Value, '__mul__', __mul__)\n",
        "\n",
        "def __pow__(self, other):\n",
        "  \n",
        "  out = Value(self.data ** other, [self])\n",
        "\n",
        "  def _backward():\n",
        "    self.grad += out.grad * self.data ** (other-1) * other\n",
        "  out._backward = _backward\n",
        "\n",
        "  return out\n",
        "\n",
        "setattr(Value, '__pow__', __pow__)\n",
        "\n",
        "\n",
        "def relu(self):\n",
        "  \n",
        "  out = Value(0 if self.data < 0 else self.data, [self])\n",
        "\n",
        "  def _backward():\n",
        "      self.grad += (out.data > 0) * out.grad\n",
        "  out._backward = _backward\n",
        "\n",
        "  return out\n",
        "\n",
        "setattr(Value, 'relu', relu)\n",
        "\n",
        "def __sub__(self, other): return self + (-other)\n",
        "setattr(Value, '__sub__', __sub__)\n",
        "def __rsub__(self, other): return self + (-other)\n",
        "setattr(Value, '__rsub__', __rsub__)\n",
        "def __rmul__(self, other): return self * other\n",
        "setattr(Value, '__rmul__', __rmul__)\n",
        "def __radd__(self, other): return self + other\n",
        "setattr(Value, '__radd__', __radd__)"
      ]
    },
    {
      "cell_type": "markdown",
      "metadata": {
        "id": "NNSzr_FMbGQ7"
      },
      "source": [
        "Notice that we add additional methods for built-in operations to make addition and subtraction easier. The `setattr` method is used to methods to the class `Value` after it's already been defined."
      ]
    },
    {
      "cell_type": "markdown",
      "metadata": {
        "id": "8HJFTbjLc5Op"
      },
      "source": [
        "## Neural Network from Scratch\n",
        "\n",
        "Now that we have a method for differentiating scalars,\n",
        "the next problem is to build a neural network. We will do so iteratively to keep the code clean. The first part is a single layer. In our implementation, a layer will consist of weights connecting each node in the input to every node in the output. If the `add_relu` flag is on, then the nodes in the output will have a ReLU activation applied to them. We show you how to initialize the layer implement the `__call__` method."
      ]
    },
    {
      "cell_type": "code",
      "execution_count": 3,
      "metadata": {
        "id": "y1Ketv6vdDC_"
      },
      "outputs": [],
      "source": [
        "import random\n",
        "\n",
        "class Layer:\n",
        "  def __init__(self, input_size, output_size, add_relu = True):\n",
        "    self.input_size = input_size\n",
        "    self.output_size = output_size\n",
        "    self.add_relu = add_relu\n",
        "    self.weights = [[Value(random.gauss(0, 1/max(input_size, output_size))) for _ in range(input_size)] for _ in range(output_size)]\n",
        "    self.biases = [Value(random.gauss(0, 1/max(input_size, output_size))) for _ in range(output_size)]\n",
        "\n",
        "  def __call__(self, inputs):\n",
        "    \n",
        "    y = [sum(w * x for w, x in zip(weights, inputs)) for weights in self.weights]\n",
        "    y = [yi + b for yi, b in zip(y, self.biases)]\n",
        "    if self.add_relu:\n",
        "      y = [y.relu() for y in y]\n",
        "    return y\n",
        "\n"
      ]
    },
    {
      "cell_type": "markdown",
      "metadata": {
        "id": "bSz149ARfefn"
      },
      "source": [
        "Notice how the weights are initialized to normal variables with mean 0 and variance 1/max(input_size, output_size). This choice is to prevent gradients from becoming too large or too small.\n",
        "\n",
        "Next, we'll use our `Layer` class to build the `Network` class. This class will hold the layers and be responsible for combining the layers to produce the prediction, updating the weights with the gradient, and zero-ing the gradient after each update."
      ]
    },
    {
      "cell_type": "code",
      "execution_count": 4,
      "metadata": {
        "id": "GnWRVfDvCKrl"
      },
      "outputs": [],
      "source": [
        "\n",
        "class Network:\n",
        "  def __init__(self, *layers):\n",
        "    self.layers = layers\n",
        "    self.parameters = []\n",
        "    for layer in self.layers:\n",
        "      for sublayer in layer.weights:\n",
        "        self.parameters += sublayer\n",
        "      self.parameters += layer.biases\n",
        "  \n",
        "  def update(self, learning_rate):\n",
        "    \n",
        "    for p in self.parameters:\n",
        "      p.data -= p.grad * learning_rate\n",
        "\n",
        "  def zero_grad(self):\n",
        "    \n",
        "    for p in self.parameters:\n",
        "      p.grad = 0\n",
        "\n",
        "  def __call__(self, x):\n",
        "    \n",
        "    y = x\n",
        "    for layer in self.layers:\n",
        "      y = layer(y)\n",
        "    return y"
      ]
    },
    {
      "cell_type": "markdown",
      "metadata": {
        "id": "kJjcZ9pmgM1R"
      },
      "source": [
        "Now that we have our network, we'll take a look at our data. The training set consists of 404 houses each with 13 features."
      ]
    },
    {
      "cell_type": "code",
      "execution_count": 5,
      "metadata": {
        "colab": {
          "base_uri": "https://localhost:8080/"
        },
        "id": "kzSgV0xu-OMe",
        "outputId": "3e90965d-3869-4ee2-ae52-8171c7353436"
      },
      "outputs": [
        {
          "output_type": "stream",
          "name": "stdout",
          "text": [
            "Downloading data from https://storage.googleapis.com/tensorflow/tf-keras-datasets/boston_housing.npz\n",
            "57344/57026 [==============================] - 0s 0us/step\n",
            "65536/57026 [==================================] - 0s 0us/step\n",
            "The dimension of the data are (404, 13) \n",
            "\n"
          ]
        }
      ],
      "source": [
        "import tensorflow as tf\n",
        "\n",
        "(x_train, y_train), (x_test, y_test) = tf.keras.datasets.boston_housing.load_data(path='boston_housing.npz')\n",
        "\n",
        "print('The dimension of the data are', x_train.shape, '\\n')"
      ]
    },
    {
      "cell_type": "markdown",
      "metadata": {
        "id": "jkFqGqMGg1bc"
      },
      "source": [
        "So the input size of our model should be 13 so we can take the features of each house as input. The output is a real-valued prediction (in thousands) for the value of the house. Initially, we will get random numbers from our model (as we should since we initialized the weights randomly). The loss is the mean squared error (MSE) between the predicted value and the actual value of the house."
      ]
    },
    {
      "cell_type": "code",
      "execution_count": 6,
      "metadata": {
        "id": "K_oVJvDCdUAq"
      },
      "outputs": [],
      "source": [
        "model = Network(Layer(13, 10), Layer(10, 10), Layer(10, 1, add_relu = False))\n",
        "# We don't apply ReLU on the last layer\n",
        "\n",
        "import numpy as np\n",
        "\n",
        "num_epochs = 10\n",
        "learning_rate = .0001\n",
        "train_losses = []\n",
        "test_losses = []\n",
        "for epoch in range(num_epochs):  \n",
        "  # Training\n",
        "  loss = 0\n",
        "  for x,y in zip(x_train, y_train):\n",
        "    \n",
        "    yhat = model(x.flatten())[0]\n",
        "    loss += (y-yhat)**2\n",
        "    #\n",
        "  loss *= 1/len(x_train)\n",
        "  \n",
        "  loss.backward()\n",
        "  model.update(learning_rate)\n",
        "  model.zero_grad()\n",
        "  # \n",
        "  train_losses += [loss.data]\n",
        "  # Validation\n",
        "  loss = 0\n",
        "  for x,y in zip(x_test, y_test):\n",
        "    \n",
        "    yhat = model(x.flatten())[0]\n",
        "    loss += (y-yhat)**2\n",
        "    #\n",
        "  loss *= 1/len(x_test)\n",
        "  test_losses += [loss.data]"
      ]
    },
    {
      "cell_type": "markdown",
      "metadata": {
        "id": "6ufBBctr-PAM"
      },
      "source": [
        "Now that we've trained our model, let's take a look at the training loss and validation loss by iteration."
      ]
    },
    {
      "cell_type": "code",
      "execution_count": 7,
      "metadata": {
        "colab": {
          "base_uri": "https://localhost:8080/",
          "height": 296
        },
        "id": "bUSw6mFf8P-i",
        "outputId": "26f4c00a-a4c5-4448-c9ba-3b8a78c82384"
      },
      "outputs": [
        {
          "output_type": "execute_result",
          "data": {
            "text/plain": [
              "<matplotlib.legend.Legend at 0x7fb10e3d29d0>"
            ]
          },
          "metadata": {},
          "execution_count": 7
        },
        {
          "output_type": "display_data",
          "data": {
            "text/plain": [
              "<Figure size 432x288 with 1 Axes>"
            ],
            "image/png": "[encoded data removed]"
          },
          "metadata": {
            "needs_background": "light"
          }
        }
      ],
      "source": [
        "import matplotlib.pyplot as plt\n",
        "\n",
        "iterations = list(range(len(train_losses)))\n",
        "plt.plot(iterations, train_losses, label='Training Data')\n",
        "plt.plot(iterations, test_losses, label='Testing Data')\n",
        "plt.ylabel('Mean Squared Error (MSE)')\n",
        "plt.xlabel('Iterations')\n",
        "plt.legend()"
      ]
    },
    {
      "cell_type": "markdown",
      "metadata": {
        "id": "v1V67m-0-W5Z"
      },
      "source": [
        "Your loss should drop from around five hundred to around one hundred, taking about a minute to run 10 epochs. Our implementation of a neural network is incredibly inefficient. So from now on, we'll use optimized libraries to run the operations we developed in this notebook.\n",
        "\n",
        "Your testing loss should initially be lower than the training loss, why? As the number of iterations increase, why does the training loss outperform the testing loss?\n",
        "\n",
        "The previous plot is a little abstract. So take some time to play around with individual houses and inspect the difference from the predicted value and the actual value."
      ]
    },
    {
      "cell_type": "code",
      "execution_count": 14,
      "metadata": {
        "colab": {
          "base_uri": "https://localhost:8080/"
        },
        "id": "qP7RokGR5kTf",
        "outputId": "fc398b13-5bd1-4ae0-8dc0-d69616967989"
      },
      "outputs": [
        {
          "output_type": "stream",
          "name": "stdout",
          "text": [
            "35.4\n",
            "[1.3110e-02 9.0000e+01 1.2200e+00 0.0000e+00 4.0300e-01 7.2490e+00\n",
            " 2.1900e+01 8.6966e+00 5.0000e+00 2.2600e+02 1.7900e+01 3.9593e+02\n",
            " 4.8100e+00]\n",
            "22.815686500618067\n"
          ]
        }
      ],
      "source": [
        "i = 50\n",
        "x, y = x_test[i], y_test[i]\n",
        "print(y)\n",
        "print(x)\n",
        "print(model(x)[0].data)"
      ]
    }
  ],
  "metadata": {
    "colab": {
      "collapsed_sections": [],
      "provenance": []
    },
    "kernelspec": {
      "display_name": "Python 3.9.12 ('base')",
      "language": "python",
      "name": "python3"
    },
    "language_info": {
      "codemirror_mode": {
        "name": "ipython",
        "version": 3
      },
      "file_extension": ".py",
      "mimetype": "text/x-python",
      "name": "python",
      "nbconvert_exporter": "python",
      "pygments_lexer": "ipython3",
      "version": "3.9.12"
    },
    "vscode": {
      "interpreter": {
        "hash": "95ee71ea249aa2e9e4602de52516e559983ad773b5ebbcec62edf843d39d54f2"
      }
    }
  },
  "nbformat": 4,
  "nbformat_minor": 0
}